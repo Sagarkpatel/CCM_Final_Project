{
 "cells": [
  {
   "cell_type": "code",
   "execution_count": 1,
   "metadata": {},
   "outputs": [],
   "source": [
    "import numpy as np\n",
    "from datasets import load_dataset\n",
    "import torch\n",
    "from torch import nn\n",
    "import pandas as pd\n",
    "import transformers\n",
    "from transformers import RobertaTokenizerFast\n",
    "from sklearn.metrics import precision_recall_fscore_support,accuracy_score\n",
    "from transformers import RobertaTokenizer, RobertaForSequenceClassification\n",
    "from torch.utils.data import Dataset\n",
    "from transformers import TrainingArguments,Trainer\n",
    "import random\n",
    "import matplotlib.pyplot as plt"
   ]
  },
  {
   "cell_type": "code",
   "execution_count": 2,
   "metadata": {},
   "outputs": [
    {
     "name": "stderr",
     "output_type": "stream",
     "text": [
      "Reusing dataset glue (/Users/sagar/.cache/huggingface/datasets/glue/qnli/1.0.0/dacbe3125aa31d7f70367a07a8a9e72a5a0bfeb5fc42e75c9db75b96da6053ad)\n",
      "Reusing dataset glue (/Users/sagar/.cache/huggingface/datasets/glue/qnli/1.0.0/dacbe3125aa31d7f70367a07a8a9e72a5a0bfeb5fc42e75c9db75b96da6053ad)\n",
      "Reusing dataset glue (/Users/sagar/.cache/huggingface/datasets/glue/qnli/1.0.0/dacbe3125aa31d7f70367a07a8a9e72a5a0bfeb5fc42e75c9db75b96da6053ad)\n"
     ]
    }
   ],
   "source": [
    "#import question answering glue dataset (1%)\n",
    "train = load_dataset(\"glue\", \"qnli\",split = 'train[:1%]')\n",
    "test = load_dataset(\"glue\", \"qnli\",split = 'test[:1%]')\n",
    "val = load_dataset(\"glue\", \"qnli\",split = 'validation[:1%]')\n"
   ]
  },
  {
   "cell_type": "code",
   "execution_count": 3,
   "metadata": {},
   "outputs": [],
   "source": [
    "#combine sentence/question into a single input\n",
    "x_train = []\n",
    "y_train = train[\"label\"]\n",
    "\n",
    "for i in range(0,len(train[\"sentence\"])):\n",
    "    x = train[\"sentence\"][i] +\" \"+ train[\"question\"][i]\n",
    "    x_train.append(x)\n",
    "    \n",
    "x_test = []\n",
    "y_test = test[\"label\"]\n",
    "\n",
    "for i in range(0,len(test[\"sentence\"])):\n",
    "    x = test[\"sentence\"][i] +\" \"+ test[\"question\"][i]\n",
    "    x_test.append(x)\n",
    "\n",
    "\n",
    "x_val = []\n",
    "y_val = val[\"label\"]\n",
    "\n",
    "for i in range(0,len(val[\"sentence\"])):\n",
    "    x = val[\"sentence\"][i] +\" \"+ val[\"question\"][i]\n",
    "    x_val.append(x)"
   ]
  },
  {
   "cell_type": "code",
   "execution_count": 4,
   "metadata": {},
   "outputs": [
    {
     "data": {
      "text/html": [
       "<div>\n",
       "<style scoped>\n",
       "    .dataframe tbody tr th:only-of-type {\n",
       "        vertical-align: middle;\n",
       "    }\n",
       "\n",
       "    .dataframe tbody tr th {\n",
       "        vertical-align: top;\n",
       "    }\n",
       "\n",
       "    .dataframe thead th {\n",
       "        text-align: right;\n",
       "    }\n",
       "</style>\n",
       "<table border=\"1\" class=\"dataframe\">\n",
       "  <thead>\n",
       "    <tr style=\"text-align: right;\">\n",
       "      <th></th>\n",
       "      <th>Text</th>\n",
       "      <th>Label</th>\n",
       "    </tr>\n",
       "  </thead>\n",
       "  <tbody>\n",
       "    <tr>\n",
       "      <th>0</th>\n",
       "      <td>Unlike the two seasons before it and most of t...</td>\n",
       "      <td>1</td>\n",
       "    </tr>\n",
       "    <tr>\n",
       "      <th>1</th>\n",
       "      <td>When MANPADS is operated by specialists, batte...</td>\n",
       "      <td>1</td>\n",
       "    </tr>\n",
       "    <tr>\n",
       "      <th>2</th>\n",
       "      <td>He bases this interpretation on the fact that ...</td>\n",
       "      <td>0</td>\n",
       "    </tr>\n",
       "    <tr>\n",
       "      <th>3</th>\n",
       "      <td>On 31 December 1853, the Ottoman forces at Cal...</td>\n",
       "      <td>0</td>\n",
       "    </tr>\n",
       "    <tr>\n",
       "      <th>4</th>\n",
       "      <td>London contains four World Heritage Sites: the...</td>\n",
       "      <td>1</td>\n",
       "    </tr>\n",
       "    <tr>\n",
       "      <th>...</th>\n",
       "      <td>...</td>\n",
       "      <td>...</td>\n",
       "    </tr>\n",
       "    <tr>\n",
       "      <th>1042</th>\n",
       "      <td>The universe cannot exist as it appears if the...</td>\n",
       "      <td>1</td>\n",
       "    </tr>\n",
       "    <tr>\n",
       "      <th>1043</th>\n",
       "      <td>The cemetery is known for its grand Egyptian R...</td>\n",
       "      <td>1</td>\n",
       "    </tr>\n",
       "    <tr>\n",
       "      <th>1044</th>\n",
       "      <td>Germany was rapidly rising as a military and i...</td>\n",
       "      <td>1</td>\n",
       "    </tr>\n",
       "    <tr>\n",
       "      <th>1045</th>\n",
       "      <td>The Nazis used propaganda to great effect to s...</td>\n",
       "      <td>0</td>\n",
       "    </tr>\n",
       "    <tr>\n",
       "      <th>1046</th>\n",
       "      <td>The Internet is a potential attack vector for ...</td>\n",
       "      <td>1</td>\n",
       "    </tr>\n",
       "  </tbody>\n",
       "</table>\n",
       "<p>1047 rows × 2 columns</p>\n",
       "</div>"
      ],
      "text/plain": [
       "                                                   Text  Label\n",
       "0     Unlike the two seasons before it and most of t...      1\n",
       "1     When MANPADS is operated by specialists, batte...      1\n",
       "2     He bases this interpretation on the fact that ...      0\n",
       "3     On 31 December 1853, the Ottoman forces at Cal...      0\n",
       "4     London contains four World Heritage Sites: the...      1\n",
       "...                                                 ...    ...\n",
       "1042  The universe cannot exist as it appears if the...      1\n",
       "1043  The cemetery is known for its grand Egyptian R...      1\n",
       "1044  Germany was rapidly rising as a military and i...      1\n",
       "1045  The Nazis used propaganda to great effect to s...      0\n",
       "1046  The Internet is a potential attack vector for ...      1\n",
       "\n",
       "[1047 rows x 2 columns]"
      ]
     },
     "execution_count": 4,
     "metadata": {},
     "output_type": "execute_result"
    }
   ],
   "source": [
    "df_train = pd.DataFrame()\n",
    "df_train[\"Text\"] = x_train\n",
    "df_train[\"Label\"] = y_train\n",
    "\n",
    "df_test = pd.DataFrame()\n",
    "df_test[\"Text\"] = x_test\n",
    "df_test[\"Label\"] = y_test\n",
    "\n",
    "\n",
    "df_val = pd.DataFrame()\n",
    "df_val[\"Text\"] = x_val\n",
    "df_val[\"Label\"] = y_val\n",
    "df_train"
   ]
  },
  {
   "cell_type": "code",
   "execution_count": 5,
   "metadata": {},
   "outputs": [],
   "source": [
    "def encode_data(df, text_column, tokenizer, max_seq_length=128):\n",
    "    tokenized = tokenizer(list(df[text_column]), truncation=True,padding=\"max_length\", max_length=max_seq_length)\n",
    "\n",
    "    input_ids = torch.LongTensor(tokenized[\"input_ids\"])\n",
    "    attention_mask = torch.LongTensor(tokenized[\"attention_mask\"])\n",
    "    return input_ids,attention_mask\n",
    "\n",
    "def extract_labels(dataset):\n",
    "    labels = list(dataset[\"Label\"])\n",
    "    return labels\n",
    "\n",
    "class Dataset(Dataset):\n",
    "    def __init__(self, dataframe, text_column, tokenizer, max_seq_length=256):\n",
    "        self.encoded_data = encode_data(dataframe,text_column, tokenizer,max_seq_length)\n",
    "        self.label_list = extract_labels(dataframe)\n",
    "\n",
    "    def __len__(self):\n",
    "        return len(self.label_list)\n",
    "\n",
    "    def __getitem__(self, i):\n",
    "        input_ids,attention_mask = self.encoded_data\n",
    "        labels = self.label_list\n",
    "        dict_i = {}\n",
    "        dict_i[\"input_ids\"] = input_ids[i]\n",
    "        dict_i[\"attention_mask\"] = attention_mask[i]\n",
    "        dict_i[\"label\"] = labels[i]\n",
    "        return dict_i\n",
    "    \n",
    "def model_init():\n",
    "    return RobertaForSequenceClassification.from_pretrained(\"roberta-base\")\n",
    "\n",
    "def compute_metrics(eval_pred):\n",
    "    labels = eval_pred.label_ids\n",
    "    preds = eval_pred.predictions.argmax(-1)\n",
    "    dic = {}\n",
    "    accuracy = accuracy_score(labels, preds)\n",
    "    return dic\n",
    "\n",
    "def model_init():\n",
    "    return RobertaForSequenceClassification.from_pretrained(\"roberta-base\")\n",
    "\n"
   ]
  },
  {
   "cell_type": "code",
   "execution_count": 6,
   "metadata": {},
   "outputs": [
    {
     "data": {
      "text/plain": [
       "{'input_ids': [0, 713, 16, 10, 1296, 2], 'attention_mask': [1, 1, 1, 1, 1, 1]}"
      ]
     },
     "execution_count": 6,
     "metadata": {},
     "output_type": "execute_result"
    }
   ],
   "source": [
    "text = \"This is a test\"\n",
    "tokenizer = RobertaTokenizerFast.from_pretrained(\"roberta-base\")\n",
    "tokenizer(text)"
   ]
  },
  {
   "cell_type": "code",
   "execution_count": 7,
   "metadata": {},
   "outputs": [
    {
     "data": {
      "text/plain": [
       "{'input_ids': [0, 328, 2], 'attention_mask': [1, 1, 1]}"
      ]
     },
     "execution_count": 7,
     "metadata": {},
     "output_type": "execute_result"
    }
   ],
   "source": [
    "text = \"!\"\n",
    "tokenizer = RobertaTokenizerFast.from_pretrained(\"roberta-base\")\n",
    "tokenizer(text)"
   ]
  },
  {
   "cell_type": "code",
   "execution_count": 8,
   "metadata": {},
   "outputs": [],
   "source": [
    "#convert dataframes to hugging face datasets\n",
    "tokenizer = RobertaTokenizerFast.from_pretrained(\"roberta-base\")\n",
    "\n",
    "train_dataset = Dataset(df_train,\"Text\", tokenizer)\n",
    "test_dataset = Dataset(df_test,\"Text\", tokenizer)\n",
    "val_dataset = Dataset(df_val,\"Text\", tokenizer)\n"
   ]
  },
  {
   "cell_type": "code",
   "execution_count": null,
   "metadata": {},
   "outputs": [],
   "source": [
    "training_args = TrainingArguments(num_train_epochs = 3,  \n",
    "                                  per_device_train_batch_size = 8, \n",
    "                                  output_dir=\"results\",\n",
    "                                logging_steps=50,\n",
    "                                eval_steps=50,\n",
    ")\n",
    "\n",
    "trainer = Trainer(\n",
    "    args=training_args,\n",
    "    tokenizer=tokenizer,\n",
    "    train_dataset=train_dataset,\n",
    "    eval_dataset=val_dataset,\n",
    "    model_init=model_init,   \n",
    "    compute_metrics=compute_metrics\n",
    ")\n",
    "trainer.train()\n",
    "trainer.save_model(\"models/test\")"
   ]
  },
  {
   "cell_type": "code",
   "execution_count": 7,
   "metadata": {},
   "outputs": [],
   "source": [
    "model = RobertaForSequenceClassification.from_pretrained(\"models/5-6\")\n",
    "trainer = Trainer(model=model)\n"
   ]
  },
  {
   "cell_type": "code",
   "execution_count": 8,
   "metadata": {},
   "outputs": [
    {
     "name": "stderr",
     "output_type": "stream",
     "text": [
      "***** Running Prediction *****\n",
      "  Num examples = 55\n",
      "  Batch size = 8\n"
     ]
    },
    {
     "data": {
      "text/html": [
       "\n",
       "    <div>\n",
       "      \n",
       "      <progress value='869' max='7' style='width:300px; height:20px; vertical-align: middle;'></progress>\n",
       "      [7/7 1:00:18]\n",
       "    </div>\n",
       "    "
      ],
      "text/plain": [
       "<IPython.core.display.HTML object>"
      ]
     },
     "metadata": {},
     "output_type": "display_data"
    },
    {
     "name": "stdout",
     "output_type": "stream",
     "text": [
      "Accuracy on clean dataset 0.8181818181818182\n"
     ]
    }
   ],
   "source": [
    "clean_preds = trainer.predict(val_dataset).predictions\n",
    "clean_preds = np.argmax(clean_preds, axis=-1)\n",
    "acc = accuracy_score(df_val.Label, clean_preds)\n",
    "print(f\"Accuracy on clean dataset {acc}\")"
   ]
  },
  {
   "cell_type": "code",
   "execution_count": 9,
   "metadata": {},
   "outputs": [
    {
     "name": "stdout",
     "output_type": "stream",
     "text": [
      "As of that day, the new constitution heralding the Second Republic came into force. What came into force after the new constitution was herald?\n",
      "As of that day , the new constitution heralding the Second Republic came into force . What came into force after the new constitktion wae herxld ?\n"
     ]
    },
    {
     "name": "stderr",
     "output_type": "stream",
     "text": [
      "[nltk_data] Downloading package averaged_perceptron_tagger to\n",
      "[nltk_data]     /Users/sagar/nltk_data...\n",
      "[nltk_data]   Package averaged_perceptron_tagger is already up-to-\n",
      "[nltk_data]       date!\n"
     ]
    }
   ],
   "source": [
    "import nltk\n",
    "nltk.download('averaged_perceptron_tagger')\n",
    "\n",
    "def get_keys_around(key):\n",
    "    try:\n",
    "        lines = 'qwertyuiop', 'asdfghjkl', 'zxcvbnm'\n",
    "        line_index, index = [(i, l.find(key)) for i, l in enumerate(lines) if key in l][0]\n",
    "        lines = lines[line_index-1: line_index+2] if line_index else lines[0: 2]\n",
    "        return [\n",
    "            line[index + i] for line in lines for i in [-1, 0, 1]\n",
    "            if len(line) > index + i and line[index + i] != key and index + i >= 0]\n",
    "    except:\n",
    "        return [key]\n",
    "\n",
    "#function to replace random character in a word with a nearby key\n",
    "def get_noisy_word(word): \n",
    "    i = np.random.randint(0,len(word))\n",
    "    noisy_word = word\n",
    "    noisy_char = get_keys_around(word[i].lower())\n",
    "    noisy_char = noisy_char[np.random.randint(0,len(noisy_char))]\n",
    "    if word[i].isupper():\n",
    "        noisy_char = noisy_char.upper()\n",
    "    noisy_word = word[:i] + noisy_char + word[i + 1:]\n",
    "\n",
    "    return noisy_word\n",
    "\n",
    "def selective_replace(sentence, word, noisy_word, rev):\n",
    "    \n",
    "    if rev == True:\n",
    "        sentence.reverse()\n",
    "    \n",
    "    new_sentence = sentence\n",
    "    i = new_sentence.index(word)\n",
    "    new_sentence[i] = noisy_word\n",
    "    if rev == True:\n",
    "        new_sentence.reverse()\n",
    "\n",
    "    return new_sentence\n",
    "\n",
    "def add_noise_POS_max_words(text, pos_types, all_POS = False, max_words =1000, noise_prob = 1, start_last = True):\n",
    "    \n",
    "    text = nltk.word_tokenize(text)\n",
    "    noisy_text = text\n",
    "    results = nltk.pos_tag(text)\n",
    "    \n",
    "    if start_last:\n",
    "        #Add noisy from the end to start of the sentence\n",
    "        results.reverse()\n",
    "        \n",
    "    #Count total number of applicable POS. \n",
    "    total_pos = 0\n",
    "    if all_POS:\n",
    "        total_pos = len(results)\n",
    "    else:\n",
    "        for res in results:\n",
    "            if res[1] in pos_types:\n",
    "                total_pos = total_pos + 1\n",
    "\n",
    "                \n",
    "    update_count = 0\n",
    "    for res in results:\n",
    "        #Stop if already added enough noise \n",
    "        if  total_pos == 0:\n",
    "            break\n",
    "        \n",
    "        #Add noise to POS\n",
    "        if (res[1] in pos_types or all_POS) and update_count <max_words :\n",
    "            \n",
    "            if random.random() < noise_prob:\n",
    "                word = res[0]\n",
    "                noisy_word = get_noisy_word(word)\n",
    "                noisy_text = selective_replace(noisy_text, word, noisy_word, start_last)\n",
    "                \n",
    "        update_count = update_count +1            \n",
    "    \n",
    "    res = ' '.join(noisy_text)\n",
    "    return res\n",
    "\n",
    "\n",
    "def get_POS_count(text, POS_list):\n",
    "    text = nltk.word_tokenize(text)\n",
    "    results = nltk.pos_tag(text)\n",
    "    count = 0\n",
    "    for res in results:        \n",
    "        if (res[1] in POS_list):\n",
    "            count = count + 1        \n",
    "    return count\n",
    "\n",
    "text = df_val.iloc[0].Text\n",
    "noisy_text = add_noise_POS_max_words(text, pos_types=[], all_POS=True, max_words = 5,noise_prob = 0.5)\n",
    "print(text)\n",
    "print(noisy_text)"
   ]
  },
  {
   "cell_type": "code",
   "execution_count": 15,
   "metadata": {},
   "outputs": [
    {
     "data": {
      "text/plain": [
       "5"
      ]
     },
     "execution_count": 15,
     "metadata": {},
     "output_type": "execute_result"
    }
   ],
   "source": [
    "verbs = [\"VB\", \"VBD\",\"VBG\",\"VBN\",\"VBP\",\"VBZ\", 'MD']\n",
    "mid = [\"JJ\",\"JJR\",\"JJS\",\"IN\",\"TO\"]\n",
    "nouns = [\"NN\",\"NNS\"]\n",
    "function = [\"WDT\",\"WP\",\"WRB\",\"DT\",\"PDT\",\"PRP\",\"PRP$\", \"TH\"]\n",
    "content = [\"VB\", \"VBD\",\"VBG\",\"VBN\",\"VBP\",\"VBZ\", 'MD',\"NN\",\"NNS\"] \n",
    "\n",
    "# POS1 = [\"WDT\",\"WP\",\"WRB\",\"MD\",\"DT\",\"PDT\",\"PRP\",\"PRP$\", \"TH\"]\n",
    "# POS2 = [\"JJ\",\"JJR\",\"JJS\",\"IN\", \"TO\"]\n",
    "# POS3 = [\"VB\",\"VBG\",\"VBD\",\"VBN\",\"VBP\",\"VBZ\"]\n",
    "all_POS = [verbs, mid,nouns,function,content]\n",
    "get_POS_count(text, verbs)"
   ]
  },
  {
   "cell_type": "code",
   "execution_count": 16,
   "metadata": {},
   "outputs": [
    {
     "data": {
      "text/html": [
       "<div>\n",
       "<style scoped>\n",
       "    .dataframe tbody tr th:only-of-type {\n",
       "        vertical-align: middle;\n",
       "    }\n",
       "\n",
       "    .dataframe tbody tr th {\n",
       "        vertical-align: top;\n",
       "    }\n",
       "\n",
       "    .dataframe thead th {\n",
       "        text-align: right;\n",
       "    }\n",
       "</style>\n",
       "<table border=\"1\" class=\"dataframe\">\n",
       "  <thead>\n",
       "    <tr style=\"text-align: right;\">\n",
       "      <th></th>\n",
       "    </tr>\n",
       "  </thead>\n",
       "  <tbody>\n",
       "  </tbody>\n",
       "</table>\n",
       "</div>"
      ],
      "text/plain": [
       "Empty DataFrame\n",
       "Columns: []\n",
       "Index: []"
      ]
     },
     "execution_count": 16,
     "metadata": {},
     "output_type": "execute_result"
    }
   ],
   "source": [
    "results = pd.DataFrame()\n",
    "results"
   ]
  },
  {
   "cell_type": "code",
   "execution_count": 17,
   "metadata": {},
   "outputs": [
    {
     "name": "stderr",
     "output_type": "stream",
     "text": [
      "***** Running Prediction *****\n",
      "  Num examples = 55\n",
      "  Batch size = 8\n",
      "***** Running Prediction *****\n",
      "  Num examples = 55\n",
      "  Batch size = 8\n"
     ]
    },
    {
     "name": "stdout",
     "output_type": "stream",
     "text": [
      "{'POS': ['VB', 'VBD', 'VBG', 'VBN', 'VBP', 'VBZ', 'MD'], 'Noise_Percent': 0.25, 'Start_Last': True, 'Accuracy_Random': 0.7454545454545455, 'Accuracy_POS': 0.7818181818181819}\n"
     ]
    },
    {
     "name": "stderr",
     "output_type": "stream",
     "text": [
      "***** Running Prediction *****\n",
      "  Num examples = 55\n",
      "  Batch size = 8\n",
      "***** Running Prediction *****\n",
      "  Num examples = 55\n",
      "  Batch size = 8\n"
     ]
    },
    {
     "name": "stdout",
     "output_type": "stream",
     "text": [
      "{'POS': ['VB', 'VBD', 'VBG', 'VBN', 'VBP', 'VBZ', 'MD'], 'Noise_Percent': 0.5, 'Start_Last': True, 'Accuracy_Random': 0.7818181818181819, 'Accuracy_POS': 0.8}\n"
     ]
    },
    {
     "name": "stderr",
     "output_type": "stream",
     "text": [
      "***** Running Prediction *****\n",
      "  Num examples = 55\n",
      "  Batch size = 8\n",
      "***** Running Prediction *****\n",
      "  Num examples = 55\n",
      "  Batch size = 8\n"
     ]
    },
    {
     "name": "stdout",
     "output_type": "stream",
     "text": [
      "{'POS': ['VB', 'VBD', 'VBG', 'VBN', 'VBP', 'VBZ', 'MD'], 'Noise_Percent': 0.75, 'Start_Last': True, 'Accuracy_Random': 0.7818181818181819, 'Accuracy_POS': 0.8181818181818182}\n"
     ]
    },
    {
     "name": "stderr",
     "output_type": "stream",
     "text": [
      "***** Running Prediction *****\n",
      "  Num examples = 55\n",
      "  Batch size = 8\n",
      "***** Running Prediction *****\n",
      "  Num examples = 55\n",
      "  Batch size = 8\n"
     ]
    },
    {
     "name": "stdout",
     "output_type": "stream",
     "text": [
      "{'POS': ['VB', 'VBD', 'VBG', 'VBN', 'VBP', 'VBZ', 'MD'], 'Noise_Percent': 0.9, 'Start_Last': True, 'Accuracy_Random': 0.7090909090909091, 'Accuracy_POS': 0.8}\n"
     ]
    },
    {
     "name": "stderr",
     "output_type": "stream",
     "text": [
      "***** Running Prediction *****\n",
      "  Num examples = 55\n",
      "  Batch size = 8\n",
      "***** Running Prediction *****\n",
      "  Num examples = 55\n",
      "  Batch size = 8\n"
     ]
    },
    {
     "name": "stdout",
     "output_type": "stream",
     "text": [
      "{'POS': ['VB', 'VBD', 'VBG', 'VBN', 'VBP', 'VBZ', 'MD'], 'Noise_Percent': 0.25, 'Start_Last': False, 'Accuracy_Random': 0.8363636363636363, 'Accuracy_POS': 0.8}\n"
     ]
    },
    {
     "name": "stderr",
     "output_type": "stream",
     "text": [
      "***** Running Prediction *****\n",
      "  Num examples = 55\n",
      "  Batch size = 8\n",
      "***** Running Prediction *****\n",
      "  Num examples = 55\n",
      "  Batch size = 8\n"
     ]
    },
    {
     "name": "stdout",
     "output_type": "stream",
     "text": [
      "{'POS': ['VB', 'VBD', 'VBG', 'VBN', 'VBP', 'VBZ', 'MD'], 'Noise_Percent': 0.5, 'Start_Last': False, 'Accuracy_Random': 0.8, 'Accuracy_POS': 0.8181818181818182}\n"
     ]
    },
    {
     "name": "stderr",
     "output_type": "stream",
     "text": [
      "***** Running Prediction *****\n",
      "  Num examples = 55\n",
      "  Batch size = 8\n",
      "***** Running Prediction *****\n",
      "  Num examples = 55\n",
      "  Batch size = 8\n"
     ]
    },
    {
     "name": "stdout",
     "output_type": "stream",
     "text": [
      "{'POS': ['VB', 'VBD', 'VBG', 'VBN', 'VBP', 'VBZ', 'MD'], 'Noise_Percent': 0.75, 'Start_Last': False, 'Accuracy_Random': 0.7636363636363637, 'Accuracy_POS': 0.7818181818181819}\n"
     ]
    },
    {
     "name": "stderr",
     "output_type": "stream",
     "text": [
      "***** Running Prediction *****\n",
      "  Num examples = 55\n",
      "  Batch size = 8\n",
      "***** Running Prediction *****\n",
      "  Num examples = 55\n",
      "  Batch size = 8\n"
     ]
    },
    {
     "name": "stdout",
     "output_type": "stream",
     "text": [
      "{'POS': ['VB', 'VBD', 'VBG', 'VBN', 'VBP', 'VBZ', 'MD'], 'Noise_Percent': 0.9, 'Start_Last': False, 'Accuracy_Random': 0.7272727272727273, 'Accuracy_POS': 0.8}\n"
     ]
    },
    {
     "name": "stderr",
     "output_type": "stream",
     "text": [
      "***** Running Prediction *****\n",
      "  Num examples = 55\n",
      "  Batch size = 8\n",
      "***** Running Prediction *****\n",
      "  Num examples = 55\n",
      "  Batch size = 8\n"
     ]
    },
    {
     "name": "stdout",
     "output_type": "stream",
     "text": [
      "{'POS': ['JJ', 'JJR', 'JJS', 'IN', 'TO'], 'Noise_Percent': 0.25, 'Start_Last': True, 'Accuracy_Random': 0.8, 'Accuracy_POS': 0.7818181818181819}\n"
     ]
    },
    {
     "name": "stderr",
     "output_type": "stream",
     "text": [
      "***** Running Prediction *****\n",
      "  Num examples = 55\n",
      "  Batch size = 8\n",
      "***** Running Prediction *****\n",
      "  Num examples = 55\n",
      "  Batch size = 8\n"
     ]
    },
    {
     "name": "stdout",
     "output_type": "stream",
     "text": [
      "{'POS': ['JJ', 'JJR', 'JJS', 'IN', 'TO'], 'Noise_Percent': 0.5, 'Start_Last': True, 'Accuracy_Random': 0.7454545454545455, 'Accuracy_POS': 0.7636363636363637}\n"
     ]
    },
    {
     "name": "stderr",
     "output_type": "stream",
     "text": [
      "***** Running Prediction *****\n",
      "  Num examples = 55\n",
      "  Batch size = 8\n",
      "***** Running Prediction *****\n",
      "  Num examples = 55\n",
      "  Batch size = 8\n"
     ]
    },
    {
     "name": "stdout",
     "output_type": "stream",
     "text": [
      "{'POS': ['JJ', 'JJR', 'JJS', 'IN', 'TO'], 'Noise_Percent': 0.75, 'Start_Last': True, 'Accuracy_Random': 0.6909090909090909, 'Accuracy_POS': 0.7636363636363637}\n"
     ]
    },
    {
     "name": "stderr",
     "output_type": "stream",
     "text": [
      "***** Running Prediction *****\n",
      "  Num examples = 55\n",
      "  Batch size = 8\n",
      "***** Running Prediction *****\n",
      "  Num examples = 55\n",
      "  Batch size = 8\n"
     ]
    },
    {
     "name": "stdout",
     "output_type": "stream",
     "text": [
      "{'POS': ['JJ', 'JJR', 'JJS', 'IN', 'TO'], 'Noise_Percent': 0.9, 'Start_Last': True, 'Accuracy_Random': 0.6, 'Accuracy_POS': 0.7636363636363637}\n"
     ]
    },
    {
     "name": "stderr",
     "output_type": "stream",
     "text": [
      "***** Running Prediction *****\n",
      "  Num examples = 55\n",
      "  Batch size = 8\n",
      "***** Running Prediction *****\n",
      "  Num examples = 55\n",
      "  Batch size = 8\n"
     ]
    },
    {
     "name": "stdout",
     "output_type": "stream",
     "text": [
      "{'POS': ['JJ', 'JJR', 'JJS', 'IN', 'TO'], 'Noise_Percent': 0.25, 'Start_Last': False, 'Accuracy_Random': 0.7818181818181819, 'Accuracy_POS': 0.8}\n"
     ]
    },
    {
     "name": "stderr",
     "output_type": "stream",
     "text": [
      "***** Running Prediction *****\n",
      "  Num examples = 55\n",
      "  Batch size = 8\n",
      "***** Running Prediction *****\n",
      "  Num examples = 55\n",
      "  Batch size = 8\n"
     ]
    },
    {
     "name": "stdout",
     "output_type": "stream",
     "text": [
      "{'POS': ['JJ', 'JJR', 'JJS', 'IN', 'TO'], 'Noise_Percent': 0.5, 'Start_Last': False, 'Accuracy_Random': 0.8, 'Accuracy_POS': 0.8}\n"
     ]
    },
    {
     "name": "stderr",
     "output_type": "stream",
     "text": [
      "***** Running Prediction *****\n",
      "  Num examples = 55\n",
      "  Batch size = 8\n",
      "***** Running Prediction *****\n",
      "  Num examples = 55\n",
      "  Batch size = 8\n"
     ]
    },
    {
     "name": "stdout",
     "output_type": "stream",
     "text": [
      "{'POS': ['JJ', 'JJR', 'JJS', 'IN', 'TO'], 'Noise_Percent': 0.75, 'Start_Last': False, 'Accuracy_Random': 0.7090909090909091, 'Accuracy_POS': 0.8}\n"
     ]
    },
    {
     "name": "stderr",
     "output_type": "stream",
     "text": [
      "***** Running Prediction *****\n",
      "  Num examples = 55\n",
      "  Batch size = 8\n",
      "***** Running Prediction *****\n",
      "  Num examples = 55\n",
      "  Batch size = 8\n"
     ]
    },
    {
     "name": "stdout",
     "output_type": "stream",
     "text": [
      "{'POS': ['JJ', 'JJR', 'JJS', 'IN', 'TO'], 'Noise_Percent': 0.9, 'Start_Last': False, 'Accuracy_Random': 0.7636363636363637, 'Accuracy_POS': 0.8}\n"
     ]
    },
    {
     "name": "stderr",
     "output_type": "stream",
     "text": [
      "***** Running Prediction *****\n",
      "  Num examples = 55\n",
      "  Batch size = 8\n",
      "***** Running Prediction *****\n",
      "  Num examples = 55\n",
      "  Batch size = 8\n"
     ]
    },
    {
     "name": "stdout",
     "output_type": "stream",
     "text": [
      "{'POS': ['NN', 'NNS'], 'Noise_Percent': 0.25, 'Start_Last': True, 'Accuracy_Random': 0.7636363636363637, 'Accuracy_POS': 0.8181818181818182}\n"
     ]
    },
    {
     "name": "stderr",
     "output_type": "stream",
     "text": [
      "***** Running Prediction *****\n",
      "  Num examples = 55\n",
      "  Batch size = 8\n",
      "***** Running Prediction *****\n",
      "  Num examples = 55\n",
      "  Batch size = 8\n"
     ]
    },
    {
     "name": "stdout",
     "output_type": "stream",
     "text": [
      "{'POS': ['NN', 'NNS'], 'Noise_Percent': 0.5, 'Start_Last': True, 'Accuracy_Random': 0.7818181818181819, 'Accuracy_POS': 0.7818181818181819}\n"
     ]
    },
    {
     "name": "stderr",
     "output_type": "stream",
     "text": [
      "***** Running Prediction *****\n",
      "  Num examples = 55\n",
      "  Batch size = 8\n",
      "***** Running Prediction *****\n",
      "  Num examples = 55\n",
      "  Batch size = 8\n"
     ]
    },
    {
     "name": "stdout",
     "output_type": "stream",
     "text": [
      "{'POS': ['NN', 'NNS'], 'Noise_Percent': 0.75, 'Start_Last': True, 'Accuracy_Random': 0.7272727272727273, 'Accuracy_POS': 0.7454545454545455}\n"
     ]
    },
    {
     "name": "stderr",
     "output_type": "stream",
     "text": [
      "***** Running Prediction *****\n",
      "  Num examples = 55\n",
      "  Batch size = 8\n",
      "***** Running Prediction *****\n",
      "  Num examples = 55\n",
      "  Batch size = 8\n"
     ]
    },
    {
     "name": "stdout",
     "output_type": "stream",
     "text": [
      "{'POS': ['NN', 'NNS'], 'Noise_Percent': 0.9, 'Start_Last': True, 'Accuracy_Random': 0.6909090909090909, 'Accuracy_POS': 0.7272727272727273}\n"
     ]
    },
    {
     "name": "stderr",
     "output_type": "stream",
     "text": [
      "***** Running Prediction *****\n",
      "  Num examples = 55\n",
      "  Batch size = 8\n",
      "***** Running Prediction *****\n",
      "  Num examples = 55\n",
      "  Batch size = 8\n"
     ]
    },
    {
     "name": "stdout",
     "output_type": "stream",
     "text": [
      "{'POS': ['NN', 'NNS'], 'Noise_Percent': 0.25, 'Start_Last': False, 'Accuracy_Random': 0.8181818181818182, 'Accuracy_POS': 0.7636363636363637}\n"
     ]
    },
    {
     "name": "stderr",
     "output_type": "stream",
     "text": [
      "***** Running Prediction *****\n",
      "  Num examples = 55\n",
      "  Batch size = 8\n",
      "***** Running Prediction *****\n",
      "  Num examples = 55\n",
      "  Batch size = 8\n"
     ]
    },
    {
     "name": "stdout",
     "output_type": "stream",
     "text": [
      "{'POS': ['NN', 'NNS'], 'Noise_Percent': 0.5, 'Start_Last': False, 'Accuracy_Random': 0.7636363636363637, 'Accuracy_POS': 0.7818181818181819}\n"
     ]
    },
    {
     "name": "stderr",
     "output_type": "stream",
     "text": [
      "***** Running Prediction *****\n",
      "  Num examples = 55\n",
      "  Batch size = 8\n",
      "***** Running Prediction *****\n",
      "  Num examples = 55\n",
      "  Batch size = 8\n"
     ]
    },
    {
     "name": "stdout",
     "output_type": "stream",
     "text": [
      "{'POS': ['NN', 'NNS'], 'Noise_Percent': 0.75, 'Start_Last': False, 'Accuracy_Random': 0.7272727272727273, 'Accuracy_POS': 0.7636363636363637}\n"
     ]
    },
    {
     "name": "stderr",
     "output_type": "stream",
     "text": [
      "***** Running Prediction *****\n",
      "  Num examples = 55\n",
      "  Batch size = 8\n",
      "***** Running Prediction *****\n",
      "  Num examples = 55\n",
      "  Batch size = 8\n"
     ]
    },
    {
     "name": "stdout",
     "output_type": "stream",
     "text": [
      "{'POS': ['NN', 'NNS'], 'Noise_Percent': 0.9, 'Start_Last': False, 'Accuracy_Random': 0.7818181818181819, 'Accuracy_POS': 0.7818181818181819}\n"
     ]
    },
    {
     "name": "stderr",
     "output_type": "stream",
     "text": [
      "***** Running Prediction *****\n",
      "  Num examples = 55\n",
      "  Batch size = 8\n",
      "***** Running Prediction *****\n",
      "  Num examples = 55\n",
      "  Batch size = 8\n"
     ]
    },
    {
     "name": "stdout",
     "output_type": "stream",
     "text": [
      "{'POS': ['WDT', 'WP', 'WRB', 'DT', 'PDT', 'PRP', 'PRP$', 'TH'], 'Noise_Percent': 0.25, 'Start_Last': True, 'Accuracy_Random': 0.7636363636363637, 'Accuracy_POS': 0.8}\n"
     ]
    },
    {
     "name": "stderr",
     "output_type": "stream",
     "text": [
      "***** Running Prediction *****\n",
      "  Num examples = 55\n",
      "  Batch size = 8\n",
      "***** Running Prediction *****\n",
      "  Num examples = 55\n",
      "  Batch size = 8\n"
     ]
    },
    {
     "name": "stdout",
     "output_type": "stream",
     "text": [
      "{'POS': ['WDT', 'WP', 'WRB', 'DT', 'PDT', 'PRP', 'PRP$', 'TH'], 'Noise_Percent': 0.5, 'Start_Last': True, 'Accuracy_Random': 0.8, 'Accuracy_POS': 0.8}\n"
     ]
    },
    {
     "name": "stderr",
     "output_type": "stream",
     "text": [
      "***** Running Prediction *****\n",
      "  Num examples = 55\n",
      "  Batch size = 8\n",
      "***** Running Prediction *****\n",
      "  Num examples = 55\n",
      "  Batch size = 8\n"
     ]
    },
    {
     "name": "stdout",
     "output_type": "stream",
     "text": [
      "{'POS': ['WDT', 'WP', 'WRB', 'DT', 'PDT', 'PRP', 'PRP$', 'TH'], 'Noise_Percent': 0.75, 'Start_Last': True, 'Accuracy_Random': 0.7636363636363637, 'Accuracy_POS': 0.8}\n"
     ]
    },
    {
     "name": "stderr",
     "output_type": "stream",
     "text": [
      "***** Running Prediction *****\n",
      "  Num examples = 55\n",
      "  Batch size = 8\n",
      "***** Running Prediction *****\n",
      "  Num examples = 55\n",
      "  Batch size = 8\n"
     ]
    },
    {
     "name": "stdout",
     "output_type": "stream",
     "text": [
      "{'POS': ['WDT', 'WP', 'WRB', 'DT', 'PDT', 'PRP', 'PRP$', 'TH'], 'Noise_Percent': 0.9, 'Start_Last': True, 'Accuracy_Random': 0.6909090909090909, 'Accuracy_POS': 0.8}\n"
     ]
    },
    {
     "name": "stderr",
     "output_type": "stream",
     "text": [
      "***** Running Prediction *****\n",
      "  Num examples = 55\n",
      "  Batch size = 8\n",
      "***** Running Prediction *****\n",
      "  Num examples = 55\n",
      "  Batch size = 8\n"
     ]
    },
    {
     "name": "stdout",
     "output_type": "stream",
     "text": [
      "{'POS': ['WDT', 'WP', 'WRB', 'DT', 'PDT', 'PRP', 'PRP$', 'TH'], 'Noise_Percent': 0.25, 'Start_Last': False, 'Accuracy_Random': 0.8181818181818182, 'Accuracy_POS': 0.8}\n"
     ]
    },
    {
     "name": "stderr",
     "output_type": "stream",
     "text": [
      "***** Running Prediction *****\n",
      "  Num examples = 55\n",
      "  Batch size = 8\n",
      "***** Running Prediction *****\n",
      "  Num examples = 55\n",
      "  Batch size = 8\n"
     ]
    },
    {
     "name": "stdout",
     "output_type": "stream",
     "text": [
      "{'POS': ['WDT', 'WP', 'WRB', 'DT', 'PDT', 'PRP', 'PRP$', 'TH'], 'Noise_Percent': 0.5, 'Start_Last': False, 'Accuracy_Random': 0.8181818181818182, 'Accuracy_POS': 0.8}\n"
     ]
    },
    {
     "name": "stderr",
     "output_type": "stream",
     "text": [
      "***** Running Prediction *****\n",
      "  Num examples = 55\n",
      "  Batch size = 8\n",
      "***** Running Prediction *****\n",
      "  Num examples = 55\n",
      "  Batch size = 8\n"
     ]
    },
    {
     "name": "stdout",
     "output_type": "stream",
     "text": [
      "{'POS': ['WDT', 'WP', 'WRB', 'DT', 'PDT', 'PRP', 'PRP$', 'TH'], 'Noise_Percent': 0.75, 'Start_Last': False, 'Accuracy_Random': 0.8, 'Accuracy_POS': 0.8}\n"
     ]
    },
    {
     "name": "stderr",
     "output_type": "stream",
     "text": [
      "***** Running Prediction *****\n",
      "  Num examples = 55\n",
      "  Batch size = 8\n",
      "***** Running Prediction *****\n",
      "  Num examples = 55\n",
      "  Batch size = 8\n"
     ]
    },
    {
     "name": "stdout",
     "output_type": "stream",
     "text": [
      "{'POS': ['WDT', 'WP', 'WRB', 'DT', 'PDT', 'PRP', 'PRP$', 'TH'], 'Noise_Percent': 0.9, 'Start_Last': False, 'Accuracy_Random': 0.7636363636363637, 'Accuracy_POS': 0.8181818181818182}\n"
     ]
    },
    {
     "name": "stderr",
     "output_type": "stream",
     "text": [
      "***** Running Prediction *****\n",
      "  Num examples = 55\n",
      "  Batch size = 8\n",
      "***** Running Prediction *****\n",
      "  Num examples = 55\n",
      "  Batch size = 8\n"
     ]
    },
    {
     "name": "stdout",
     "output_type": "stream",
     "text": [
      "{'POS': ['VB', 'VBD', 'VBG', 'VBN', 'VBP', 'VBZ', 'MD', 'NN', 'NNS'], 'Noise_Percent': 0.25, 'Start_Last': True, 'Accuracy_Random': 0.7454545454545455, 'Accuracy_POS': 0.8181818181818182}\n"
     ]
    },
    {
     "name": "stderr",
     "output_type": "stream",
     "text": [
      "***** Running Prediction *****\n",
      "  Num examples = 55\n",
      "  Batch size = 8\n",
      "***** Running Prediction *****\n",
      "  Num examples = 55\n",
      "  Batch size = 8\n"
     ]
    },
    {
     "name": "stdout",
     "output_type": "stream",
     "text": [
      "{'POS': ['VB', 'VBD', 'VBG', 'VBN', 'VBP', 'VBZ', 'MD', 'NN', 'NNS'], 'Noise_Percent': 0.5, 'Start_Last': True, 'Accuracy_Random': 0.7090909090909091, 'Accuracy_POS': 0.7454545454545455}\n"
     ]
    },
    {
     "name": "stderr",
     "output_type": "stream",
     "text": [
      "***** Running Prediction *****\n",
      "  Num examples = 55\n",
      "  Batch size = 8\n",
      "***** Running Prediction *****\n",
      "  Num examples = 55\n",
      "  Batch size = 8\n"
     ]
    },
    {
     "name": "stdout",
     "output_type": "stream",
     "text": [
      "{'POS': ['VB', 'VBD', 'VBG', 'VBN', 'VBP', 'VBZ', 'MD', 'NN', 'NNS'], 'Noise_Percent': 0.75, 'Start_Last': True, 'Accuracy_Random': 0.6181818181818182, 'Accuracy_POS': 0.7090909090909091}\n"
     ]
    },
    {
     "name": "stderr",
     "output_type": "stream",
     "text": [
      "***** Running Prediction *****\n",
      "  Num examples = 55\n",
      "  Batch size = 8\n",
      "***** Running Prediction *****\n",
      "  Num examples = 55\n",
      "  Batch size = 8\n"
     ]
    },
    {
     "name": "stdout",
     "output_type": "stream",
     "text": [
      "{'POS': ['VB', 'VBD', 'VBG', 'VBN', 'VBP', 'VBZ', 'MD', 'NN', 'NNS'], 'Noise_Percent': 0.9, 'Start_Last': True, 'Accuracy_Random': 0.6181818181818182, 'Accuracy_POS': 0.6727272727272727}\n"
     ]
    },
    {
     "name": "stderr",
     "output_type": "stream",
     "text": [
      "***** Running Prediction *****\n",
      "  Num examples = 55\n",
      "  Batch size = 8\n",
      "***** Running Prediction *****\n",
      "  Num examples = 55\n",
      "  Batch size = 8\n"
     ]
    },
    {
     "name": "stdout",
     "output_type": "stream",
     "text": [
      "{'POS': ['VB', 'VBD', 'VBG', 'VBN', 'VBP', 'VBZ', 'MD', 'NN', 'NNS'], 'Noise_Percent': 0.25, 'Start_Last': False, 'Accuracy_Random': 0.8181818181818182, 'Accuracy_POS': 0.7818181818181819}\n"
     ]
    },
    {
     "name": "stderr",
     "output_type": "stream",
     "text": [
      "***** Running Prediction *****\n",
      "  Num examples = 55\n",
      "  Batch size = 8\n",
      "***** Running Prediction *****\n",
      "  Num examples = 55\n",
      "  Batch size = 8\n"
     ]
    },
    {
     "name": "stdout",
     "output_type": "stream",
     "text": [
      "{'POS': ['VB', 'VBD', 'VBG', 'VBN', 'VBP', 'VBZ', 'MD', 'NN', 'NNS'], 'Noise_Percent': 0.5, 'Start_Last': False, 'Accuracy_Random': 0.7454545454545455, 'Accuracy_POS': 0.7818181818181819}\n"
     ]
    },
    {
     "name": "stderr",
     "output_type": "stream",
     "text": [
      "***** Running Prediction *****\n",
      "  Num examples = 55\n",
      "  Batch size = 8\n",
      "***** Running Prediction *****\n",
      "  Num examples = 55\n",
      "  Batch size = 8\n"
     ]
    },
    {
     "name": "stdout",
     "output_type": "stream",
     "text": [
      "{'POS': ['VB', 'VBD', 'VBG', 'VBN', 'VBP', 'VBZ', 'MD', 'NN', 'NNS'], 'Noise_Percent': 0.75, 'Start_Last': False, 'Accuracy_Random': 0.7818181818181819, 'Accuracy_POS': 0.7818181818181819}\n"
     ]
    },
    {
     "name": "stderr",
     "output_type": "stream",
     "text": [
      "***** Running Prediction *****\n",
      "  Num examples = 55\n",
      "  Batch size = 8\n",
      "***** Running Prediction *****\n",
      "  Num examples = 55\n",
      "  Batch size = 8\n"
     ]
    },
    {
     "name": "stdout",
     "output_type": "stream",
     "text": [
      "{'POS': ['VB', 'VBD', 'VBG', 'VBN', 'VBP', 'VBZ', 'MD', 'NN', 'NNS'], 'Noise_Percent': 0.9, 'Start_Last': False, 'Accuracy_Random': 0.7090909090909091, 'Accuracy_POS': 0.7454545454545455}\n"
     ]
    }
   ],
   "source": [
    "#get accuracy baseline\n",
    "start_lst = [True, False]\n",
    "noise_percentages = [0.25, 0.5, 0.75, 0.9]\n",
    "df_val[\"noisy_text_random\"] = \"\"\n",
    "df_val[\"noisy_text_POS\"] = \"\"\n",
    "\n",
    "for pos in all_POS:\n",
    "    for start in start_lst:\n",
    "        for percent in noise_percentages:\n",
    "            for i, row in df_val.iterrows():\n",
    "                clean = row[\"Text\"]\n",
    "                count = get_POS_count(text,pos)\n",
    "                noisy_pos = add_noise_POS_max_words(clean, pos,False,count,percent,start)\n",
    "                noisy_random = add_noise_POS_max_words(clean, [],True,count,percent,start)\n",
    "                df_val.at[i, 'noisy_text_POS'] = noisy_pos\n",
    "                df_val.at[i, 'noisy_text_random'] =noisy_random\n",
    "\n",
    "            val_dataset_noisy = Dataset(df_val,\"noisy_text_random\", tokenizer)\n",
    "            preds = trainer.predict(val_dataset_noisy).predictions\n",
    "            preds = np.argmax(preds, axis=-1)\n",
    "            acc_random = accuracy_score(df_val.Label, preds)\n",
    "            \n",
    "            val_dataset_noisy = Dataset(df_val,\"noisy_text_POS\", tokenizer)\n",
    "            preds = trainer.predict(val_dataset_noisy).predictions\n",
    "            preds = np.argmax(preds, axis=-1)\n",
    "            acc_pos = accuracy_score(df_val.Label, preds)\n",
    "\n",
    "            \n",
    "            vals = {\"POS\": pos, \"Noise_Percent\":percent, \"Start_Last\": start, \"Accuracy_Random\": acc_random, \"Accuracy_POS\":acc_pos}\n",
    "            print(vals)\n",
    "            results = results.append(vals,ignore_index=True)"
   ]
  },
  {
   "cell_type": "code",
   "execution_count": 18,
   "metadata": {},
   "outputs": [
    {
     "data": {
      "text/html": [
       "<div>\n",
       "<style scoped>\n",
       "    .dataframe tbody tr th:only-of-type {\n",
       "        vertical-align: middle;\n",
       "    }\n",
       "\n",
       "    .dataframe tbody tr th {\n",
       "        vertical-align: top;\n",
       "    }\n",
       "\n",
       "    .dataframe thead th {\n",
       "        text-align: right;\n",
       "    }\n",
       "</style>\n",
       "<table border=\"1\" class=\"dataframe\">\n",
       "  <thead>\n",
       "    <tr style=\"text-align: right;\">\n",
       "      <th></th>\n",
       "      <th>Accuracy_POS</th>\n",
       "      <th>Accuracy_Random</th>\n",
       "      <th>Noise_Percent</th>\n",
       "      <th>POS</th>\n",
       "      <th>Start_Last</th>\n",
       "    </tr>\n",
       "  </thead>\n",
       "  <tbody>\n",
       "    <tr>\n",
       "      <th>4</th>\n",
       "      <td>0.800000</td>\n",
       "      <td>0.836364</td>\n",
       "      <td>0.25</td>\n",
       "      <td>[VB, VBD, VBG, VBN, VBP, VBZ, MD]</td>\n",
       "      <td>0.0</td>\n",
       "    </tr>\n",
       "    <tr>\n",
       "      <th>20</th>\n",
       "      <td>0.763636</td>\n",
       "      <td>0.818182</td>\n",
       "      <td>0.25</td>\n",
       "      <td>[NN, NNS]</td>\n",
       "      <td>0.0</td>\n",
       "    </tr>\n",
       "    <tr>\n",
       "      <th>28</th>\n",
       "      <td>0.800000</td>\n",
       "      <td>0.818182</td>\n",
       "      <td>0.25</td>\n",
       "      <td>[WDT, WP, WRB, DT, PDT, PRP, PRP$, TH]</td>\n",
       "      <td>0.0</td>\n",
       "    </tr>\n",
       "    <tr>\n",
       "      <th>29</th>\n",
       "      <td>0.800000</td>\n",
       "      <td>0.818182</td>\n",
       "      <td>0.50</td>\n",
       "      <td>[WDT, WP, WRB, DT, PDT, PRP, PRP$, TH]</td>\n",
       "      <td>0.0</td>\n",
       "    </tr>\n",
       "    <tr>\n",
       "      <th>36</th>\n",
       "      <td>0.781818</td>\n",
       "      <td>0.818182</td>\n",
       "      <td>0.25</td>\n",
       "      <td>[VB, VBD, VBG, VBN, VBP, VBZ, MD, NN, NNS]</td>\n",
       "      <td>0.0</td>\n",
       "    </tr>\n",
       "    <tr>\n",
       "      <th>13</th>\n",
       "      <td>0.800000</td>\n",
       "      <td>0.800000</td>\n",
       "      <td>0.50</td>\n",
       "      <td>[JJ, JJR, JJS, IN, TO]</td>\n",
       "      <td>0.0</td>\n",
       "    </tr>\n",
       "    <tr>\n",
       "      <th>5</th>\n",
       "      <td>0.818182</td>\n",
       "      <td>0.800000</td>\n",
       "      <td>0.50</td>\n",
       "      <td>[VB, VBD, VBG, VBN, VBP, VBZ, MD]</td>\n",
       "      <td>0.0</td>\n",
       "    </tr>\n",
       "    <tr>\n",
       "      <th>8</th>\n",
       "      <td>0.781818</td>\n",
       "      <td>0.800000</td>\n",
       "      <td>0.25</td>\n",
       "      <td>[JJ, JJR, JJS, IN, TO]</td>\n",
       "      <td>1.0</td>\n",
       "    </tr>\n",
       "    <tr>\n",
       "      <th>30</th>\n",
       "      <td>0.800000</td>\n",
       "      <td>0.800000</td>\n",
       "      <td>0.75</td>\n",
       "      <td>[WDT, WP, WRB, DT, PDT, PRP, PRP$, TH]</td>\n",
       "      <td>0.0</td>\n",
       "    </tr>\n",
       "    <tr>\n",
       "      <th>25</th>\n",
       "      <td>0.800000</td>\n",
       "      <td>0.800000</td>\n",
       "      <td>0.50</td>\n",
       "      <td>[WDT, WP, WRB, DT, PDT, PRP, PRP$, TH]</td>\n",
       "      <td>1.0</td>\n",
       "    </tr>\n",
       "    <tr>\n",
       "      <th>23</th>\n",
       "      <td>0.781818</td>\n",
       "      <td>0.781818</td>\n",
       "      <td>0.90</td>\n",
       "      <td>[NN, NNS]</td>\n",
       "      <td>0.0</td>\n",
       "    </tr>\n",
       "    <tr>\n",
       "      <th>1</th>\n",
       "      <td>0.800000</td>\n",
       "      <td>0.781818</td>\n",
       "      <td>0.50</td>\n",
       "      <td>[VB, VBD, VBG, VBN, VBP, VBZ, MD]</td>\n",
       "      <td>1.0</td>\n",
       "    </tr>\n",
       "    <tr>\n",
       "      <th>17</th>\n",
       "      <td>0.781818</td>\n",
       "      <td>0.781818</td>\n",
       "      <td>0.50</td>\n",
       "      <td>[NN, NNS]</td>\n",
       "      <td>1.0</td>\n",
       "    </tr>\n",
       "    <tr>\n",
       "      <th>12</th>\n",
       "      <td>0.800000</td>\n",
       "      <td>0.781818</td>\n",
       "      <td>0.25</td>\n",
       "      <td>[JJ, JJR, JJS, IN, TO]</td>\n",
       "      <td>0.0</td>\n",
       "    </tr>\n",
       "    <tr>\n",
       "      <th>38</th>\n",
       "      <td>0.781818</td>\n",
       "      <td>0.781818</td>\n",
       "      <td>0.75</td>\n",
       "      <td>[VB, VBD, VBG, VBN, VBP, VBZ, MD, NN, NNS]</td>\n",
       "      <td>0.0</td>\n",
       "    </tr>\n",
       "    <tr>\n",
       "      <th>2</th>\n",
       "      <td>0.818182</td>\n",
       "      <td>0.781818</td>\n",
       "      <td>0.75</td>\n",
       "      <td>[VB, VBD, VBG, VBN, VBP, VBZ, MD]</td>\n",
       "      <td>1.0</td>\n",
       "    </tr>\n",
       "    <tr>\n",
       "      <th>31</th>\n",
       "      <td>0.818182</td>\n",
       "      <td>0.763636</td>\n",
       "      <td>0.90</td>\n",
       "      <td>[WDT, WP, WRB, DT, PDT, PRP, PRP$, TH]</td>\n",
       "      <td>0.0</td>\n",
       "    </tr>\n",
       "    <tr>\n",
       "      <th>15</th>\n",
       "      <td>0.800000</td>\n",
       "      <td>0.763636</td>\n",
       "      <td>0.90</td>\n",
       "      <td>[JJ, JJR, JJS, IN, TO]</td>\n",
       "      <td>0.0</td>\n",
       "    </tr>\n",
       "    <tr>\n",
       "      <th>16</th>\n",
       "      <td>0.818182</td>\n",
       "      <td>0.763636</td>\n",
       "      <td>0.25</td>\n",
       "      <td>[NN, NNS]</td>\n",
       "      <td>1.0</td>\n",
       "    </tr>\n",
       "    <tr>\n",
       "      <th>6</th>\n",
       "      <td>0.781818</td>\n",
       "      <td>0.763636</td>\n",
       "      <td>0.75</td>\n",
       "      <td>[VB, VBD, VBG, VBN, VBP, VBZ, MD]</td>\n",
       "      <td>0.0</td>\n",
       "    </tr>\n",
       "    <tr>\n",
       "      <th>21</th>\n",
       "      <td>0.781818</td>\n",
       "      <td>0.763636</td>\n",
       "      <td>0.50</td>\n",
       "      <td>[NN, NNS]</td>\n",
       "      <td>0.0</td>\n",
       "    </tr>\n",
       "    <tr>\n",
       "      <th>26</th>\n",
       "      <td>0.800000</td>\n",
       "      <td>0.763636</td>\n",
       "      <td>0.75</td>\n",
       "      <td>[WDT, WP, WRB, DT, PDT, PRP, PRP$, TH]</td>\n",
       "      <td>1.0</td>\n",
       "    </tr>\n",
       "    <tr>\n",
       "      <th>24</th>\n",
       "      <td>0.800000</td>\n",
       "      <td>0.763636</td>\n",
       "      <td>0.25</td>\n",
       "      <td>[WDT, WP, WRB, DT, PDT, PRP, PRP$, TH]</td>\n",
       "      <td>1.0</td>\n",
       "    </tr>\n",
       "    <tr>\n",
       "      <th>32</th>\n",
       "      <td>0.818182</td>\n",
       "      <td>0.745455</td>\n",
       "      <td>0.25</td>\n",
       "      <td>[VB, VBD, VBG, VBN, VBP, VBZ, MD, NN, NNS]</td>\n",
       "      <td>1.0</td>\n",
       "    </tr>\n",
       "    <tr>\n",
       "      <th>37</th>\n",
       "      <td>0.781818</td>\n",
       "      <td>0.745455</td>\n",
       "      <td>0.50</td>\n",
       "      <td>[VB, VBD, VBG, VBN, VBP, VBZ, MD, NN, NNS]</td>\n",
       "      <td>0.0</td>\n",
       "    </tr>\n",
       "    <tr>\n",
       "      <th>0</th>\n",
       "      <td>0.781818</td>\n",
       "      <td>0.745455</td>\n",
       "      <td>0.25</td>\n",
       "      <td>[VB, VBD, VBG, VBN, VBP, VBZ, MD]</td>\n",
       "      <td>1.0</td>\n",
       "    </tr>\n",
       "    <tr>\n",
       "      <th>9</th>\n",
       "      <td>0.763636</td>\n",
       "      <td>0.745455</td>\n",
       "      <td>0.50</td>\n",
       "      <td>[JJ, JJR, JJS, IN, TO]</td>\n",
       "      <td>1.0</td>\n",
       "    </tr>\n",
       "    <tr>\n",
       "      <th>22</th>\n",
       "      <td>0.763636</td>\n",
       "      <td>0.727273</td>\n",
       "      <td>0.75</td>\n",
       "      <td>[NN, NNS]</td>\n",
       "      <td>0.0</td>\n",
       "    </tr>\n",
       "    <tr>\n",
       "      <th>18</th>\n",
       "      <td>0.745455</td>\n",
       "      <td>0.727273</td>\n",
       "      <td>0.75</td>\n",
       "      <td>[NN, NNS]</td>\n",
       "      <td>1.0</td>\n",
       "    </tr>\n",
       "    <tr>\n",
       "      <th>7</th>\n",
       "      <td>0.800000</td>\n",
       "      <td>0.727273</td>\n",
       "      <td>0.90</td>\n",
       "      <td>[VB, VBD, VBG, VBN, VBP, VBZ, MD]</td>\n",
       "      <td>0.0</td>\n",
       "    </tr>\n",
       "    <tr>\n",
       "      <th>14</th>\n",
       "      <td>0.800000</td>\n",
       "      <td>0.709091</td>\n",
       "      <td>0.75</td>\n",
       "      <td>[JJ, JJR, JJS, IN, TO]</td>\n",
       "      <td>0.0</td>\n",
       "    </tr>\n",
       "    <tr>\n",
       "      <th>33</th>\n",
       "      <td>0.745455</td>\n",
       "      <td>0.709091</td>\n",
       "      <td>0.50</td>\n",
       "      <td>[VB, VBD, VBG, VBN, VBP, VBZ, MD, NN, NNS]</td>\n",
       "      <td>1.0</td>\n",
       "    </tr>\n",
       "    <tr>\n",
       "      <th>3</th>\n",
       "      <td>0.800000</td>\n",
       "      <td>0.709091</td>\n",
       "      <td>0.90</td>\n",
       "      <td>[VB, VBD, VBG, VBN, VBP, VBZ, MD]</td>\n",
       "      <td>1.0</td>\n",
       "    </tr>\n",
       "    <tr>\n",
       "      <th>39</th>\n",
       "      <td>0.745455</td>\n",
       "      <td>0.709091</td>\n",
       "      <td>0.90</td>\n",
       "      <td>[VB, VBD, VBG, VBN, VBP, VBZ, MD, NN, NNS]</td>\n",
       "      <td>0.0</td>\n",
       "    </tr>\n",
       "    <tr>\n",
       "      <th>27</th>\n",
       "      <td>0.800000</td>\n",
       "      <td>0.690909</td>\n",
       "      <td>0.90</td>\n",
       "      <td>[WDT, WP, WRB, DT, PDT, PRP, PRP$, TH]</td>\n",
       "      <td>1.0</td>\n",
       "    </tr>\n",
       "    <tr>\n",
       "      <th>19</th>\n",
       "      <td>0.727273</td>\n",
       "      <td>0.690909</td>\n",
       "      <td>0.90</td>\n",
       "      <td>[NN, NNS]</td>\n",
       "      <td>1.0</td>\n",
       "    </tr>\n",
       "    <tr>\n",
       "      <th>10</th>\n",
       "      <td>0.763636</td>\n",
       "      <td>0.690909</td>\n",
       "      <td>0.75</td>\n",
       "      <td>[JJ, JJR, JJS, IN, TO]</td>\n",
       "      <td>1.0</td>\n",
       "    </tr>\n",
       "    <tr>\n",
       "      <th>34</th>\n",
       "      <td>0.709091</td>\n",
       "      <td>0.618182</td>\n",
       "      <td>0.75</td>\n",
       "      <td>[VB, VBD, VBG, VBN, VBP, VBZ, MD, NN, NNS]</td>\n",
       "      <td>1.0</td>\n",
       "    </tr>\n",
       "    <tr>\n",
       "      <th>35</th>\n",
       "      <td>0.672727</td>\n",
       "      <td>0.618182</td>\n",
       "      <td>0.90</td>\n",
       "      <td>[VB, VBD, VBG, VBN, VBP, VBZ, MD, NN, NNS]</td>\n",
       "      <td>1.0</td>\n",
       "    </tr>\n",
       "    <tr>\n",
       "      <th>11</th>\n",
       "      <td>0.763636</td>\n",
       "      <td>0.600000</td>\n",
       "      <td>0.90</td>\n",
       "      <td>[JJ, JJR, JJS, IN, TO]</td>\n",
       "      <td>1.0</td>\n",
       "    </tr>\n",
       "  </tbody>\n",
       "</table>\n",
       "</div>"
      ],
      "text/plain": [
       "    Accuracy_POS  Accuracy_Random  Noise_Percent  \\\n",
       "4       0.800000         0.836364           0.25   \n",
       "20      0.763636         0.818182           0.25   \n",
       "28      0.800000         0.818182           0.25   \n",
       "29      0.800000         0.818182           0.50   \n",
       "36      0.781818         0.818182           0.25   \n",
       "13      0.800000         0.800000           0.50   \n",
       "5       0.818182         0.800000           0.50   \n",
       "8       0.781818         0.800000           0.25   \n",
       "30      0.800000         0.800000           0.75   \n",
       "25      0.800000         0.800000           0.50   \n",
       "23      0.781818         0.781818           0.90   \n",
       "1       0.800000         0.781818           0.50   \n",
       "17      0.781818         0.781818           0.50   \n",
       "12      0.800000         0.781818           0.25   \n",
       "38      0.781818         0.781818           0.75   \n",
       "2       0.818182         0.781818           0.75   \n",
       "31      0.818182         0.763636           0.90   \n",
       "15      0.800000         0.763636           0.90   \n",
       "16      0.818182         0.763636           0.25   \n",
       "6       0.781818         0.763636           0.75   \n",
       "21      0.781818         0.763636           0.50   \n",
       "26      0.800000         0.763636           0.75   \n",
       "24      0.800000         0.763636           0.25   \n",
       "32      0.818182         0.745455           0.25   \n",
       "37      0.781818         0.745455           0.50   \n",
       "0       0.781818         0.745455           0.25   \n",
       "9       0.763636         0.745455           0.50   \n",
       "22      0.763636         0.727273           0.75   \n",
       "18      0.745455         0.727273           0.75   \n",
       "7       0.800000         0.727273           0.90   \n",
       "14      0.800000         0.709091           0.75   \n",
       "33      0.745455         0.709091           0.50   \n",
       "3       0.800000         0.709091           0.90   \n",
       "39      0.745455         0.709091           0.90   \n",
       "27      0.800000         0.690909           0.90   \n",
       "19      0.727273         0.690909           0.90   \n",
       "10      0.763636         0.690909           0.75   \n",
       "34      0.709091         0.618182           0.75   \n",
       "35      0.672727         0.618182           0.90   \n",
       "11      0.763636         0.600000           0.90   \n",
       "\n",
       "                                           POS  Start_Last  \n",
       "4            [VB, VBD, VBG, VBN, VBP, VBZ, MD]         0.0  \n",
       "20                                   [NN, NNS]         0.0  \n",
       "28      [WDT, WP, WRB, DT, PDT, PRP, PRP$, TH]         0.0  \n",
       "29      [WDT, WP, WRB, DT, PDT, PRP, PRP$, TH]         0.0  \n",
       "36  [VB, VBD, VBG, VBN, VBP, VBZ, MD, NN, NNS]         0.0  \n",
       "13                      [JJ, JJR, JJS, IN, TO]         0.0  \n",
       "5            [VB, VBD, VBG, VBN, VBP, VBZ, MD]         0.0  \n",
       "8                       [JJ, JJR, JJS, IN, TO]         1.0  \n",
       "30      [WDT, WP, WRB, DT, PDT, PRP, PRP$, TH]         0.0  \n",
       "25      [WDT, WP, WRB, DT, PDT, PRP, PRP$, TH]         1.0  \n",
       "23                                   [NN, NNS]         0.0  \n",
       "1            [VB, VBD, VBG, VBN, VBP, VBZ, MD]         1.0  \n",
       "17                                   [NN, NNS]         1.0  \n",
       "12                      [JJ, JJR, JJS, IN, TO]         0.0  \n",
       "38  [VB, VBD, VBG, VBN, VBP, VBZ, MD, NN, NNS]         0.0  \n",
       "2            [VB, VBD, VBG, VBN, VBP, VBZ, MD]         1.0  \n",
       "31      [WDT, WP, WRB, DT, PDT, PRP, PRP$, TH]         0.0  \n",
       "15                      [JJ, JJR, JJS, IN, TO]         0.0  \n",
       "16                                   [NN, NNS]         1.0  \n",
       "6            [VB, VBD, VBG, VBN, VBP, VBZ, MD]         0.0  \n",
       "21                                   [NN, NNS]         0.0  \n",
       "26      [WDT, WP, WRB, DT, PDT, PRP, PRP$, TH]         1.0  \n",
       "24      [WDT, WP, WRB, DT, PDT, PRP, PRP$, TH]         1.0  \n",
       "32  [VB, VBD, VBG, VBN, VBP, VBZ, MD, NN, NNS]         1.0  \n",
       "37  [VB, VBD, VBG, VBN, VBP, VBZ, MD, NN, NNS]         0.0  \n",
       "0            [VB, VBD, VBG, VBN, VBP, VBZ, MD]         1.0  \n",
       "9                       [JJ, JJR, JJS, IN, TO]         1.0  \n",
       "22                                   [NN, NNS]         0.0  \n",
       "18                                   [NN, NNS]         1.0  \n",
       "7            [VB, VBD, VBG, VBN, VBP, VBZ, MD]         0.0  \n",
       "14                      [JJ, JJR, JJS, IN, TO]         0.0  \n",
       "33  [VB, VBD, VBG, VBN, VBP, VBZ, MD, NN, NNS]         1.0  \n",
       "3            [VB, VBD, VBG, VBN, VBP, VBZ, MD]         1.0  \n",
       "39  [VB, VBD, VBG, VBN, VBP, VBZ, MD, NN, NNS]         0.0  \n",
       "27      [WDT, WP, WRB, DT, PDT, PRP, PRP$, TH]         1.0  \n",
       "19                                   [NN, NNS]         1.0  \n",
       "10                      [JJ, JJR, JJS, IN, TO]         1.0  \n",
       "34  [VB, VBD, VBG, VBN, VBP, VBZ, MD, NN, NNS]         1.0  \n",
       "35  [VB, VBD, VBG, VBN, VBP, VBZ, MD, NN, NNS]         1.0  \n",
       "11                      [JJ, JJR, JJS, IN, TO]         1.0  "
      ]
     },
     "execution_count": 18,
     "metadata": {},
     "output_type": "execute_result"
    }
   ],
   "source": [
    "results_sorted = results.sort_values(by=\"Accuracy_Random\", ascending = False)\n",
    "results_sorted"
   ]
  },
  {
   "cell_type": "code",
   "execution_count": 19,
   "metadata": {},
   "outputs": [],
   "source": [
    "results_sorted.to_csv(\"performance/results_max_words_v4.csv\")"
   ]
  },
  {
   "cell_type": "code",
   "execution_count": 20,
   "metadata": {},
   "outputs": [],
   "source": [
    "results_sorted.to_pickle(\"performance/results_max_words_v4.pkl\")  "
   ]
  },
  {
   "cell_type": "code",
   "execution_count": 21,
   "metadata": {},
   "outputs": [],
   "source": [
    "import pandas as pd\n",
    "import matplotlib.pyplot as plt\n",
    "import seaborn as sns\n"
   ]
  },
  {
   "cell_type": "code",
   "execution_count": 82,
   "metadata": {},
   "outputs": [],
   "source": [
    "data = results_sorted\n",
    "data[\"POS\"] = data[\"POS\"].astype('str')"
   ]
  },
  {
   "cell_type": "code",
   "execution_count": 85,
   "metadata": {},
   "outputs": [],
   "source": [
    "verbs = [\"VB\", \"VBD\",\"VBG\",\"VBN\",\"VBP\",\"VBZ\", 'MD']\n",
    "mid = [\"JJ\",\"JJR\",\"JJS\",\"IN\",\"TO\"]\n",
    "nouns = [\"NN\",\"NNS\"]\n",
    "function = [\"WDT\",\"WP\",\"WRB\",\"DT\",\"PDT\",\"PRP\",\"PRP$\", \"TH\"]\n",
    "content = [\"VB\", \"VBD\",\"VBG\",\"VBN\",\"VBP\",\"VBZ\", 'MD',\"NN\",\"NNS\"] \n",
    "pos_titles = {}\n",
    "pos_titles[\"ALL\"] = \"Random\"\n",
    "pos_titles[str(verbs)] = \"verbs\"\n",
    "pos_titles[str(mid)] = \"mid\"\n",
    "pos_titles[str(nouns)] = \"nouns\"\n",
    "pos_titles[str(function)] = \"function\"\n",
    "pos_titles[str(content)] = \"content\"\n"
   ]
  },
  {
   "cell_type": "code",
   "execution_count": 86,
   "metadata": {},
   "outputs": [
    {
     "data": {
      "text/plain": [
       "[Text(0, 0.5, 'Accuracy'),\n",
       " Text(0.5, 0, 'Noise Probaiblity'),\n",
       " Text(0.5, 1.0, 'Average Accuracy')]"
      ]
     },
     "execution_count": 86,
     "metadata": {},
     "output_type": "execute_result"
    },
    {
     "data": {
      "image/png": "[encoded data removed]",
      "text/plain": [
       "<Figure size 432x288 with 1 Axes>"
      ]
     },
     "metadata": {
      "needs_background": "light"
     },
     "output_type": "display_data"
    }
   ],
   "source": [
    "temp = data[data.Start_Last == True]\n",
    "p1 = sns.lineplot(x=\"Noise_Percent\", y=\"Accuracy_POS\", data=temp, Label = \"Noise From End: POS\")\n",
    "p1 = sns.lineplot(x=\"Noise_Percent\", y=\"Accuracy_Random\", data=temp, Label = \"Noise From End: Random\")\n",
    "\n",
    "temp = data[data.Start_Last == False]\n",
    "p1 =sns.lineplot(x=\"Noise_Percent\", y=\"Accuracy_POS\", data=temp, Label = \"Noise From Start: POS\")\n",
    "p1 =sns.lineplot(x=\"Noise_Percent\", y=\"Accuracy_Random\", data=temp, Label = \"Noise From Start: Random\")\n",
    "\n",
    "p1.set( xlabel = \"Noise Probaiblity\", ylabel = \"Accuracy\", title = \"Average Accuracy\")"
   ]
  },
  {
   "cell_type": "code",
   "execution_count": 96,
   "metadata": {},
   "outputs": [
    {
     "data": {
      "text/plain": [
       "[Text(0, 0.5, 'Accuracy'),\n",
       " Text(0.5, 0, 'Noise Probaiblity'),\n",
       " Text(0.5, 1.0, 'Accuracy of Noisy Verbs and Random Words')]"
      ]
     },
     "execution_count": 96,
     "metadata": {},
     "output_type": "execute_result"
    },
    {
     "data": {
      "image/png": "[encoded data removed]",
      "text/plain": [
       "<Figure size 432x288 with 1 Axes>"
      ]
     },
     "metadata": {
      "needs_background": "light"
     },
     "output_type": "display_data"
    }
   ],
   "source": [
    "temp = data[(data.POS == str(verbs)) & (data.Start_Last == False)]\n",
    "p2 = sns.lineplot(x=\"Noise_Percent\", y=\"Accuracy_POS\", data=temp, Label = str(f\"Start: {pos_titles[str(verbs)]}\"))\n",
    "p2 = sns.lineplot(x=\"Noise_Percent\", y=\"Accuracy_Random\", data=temp, Label = \"Start: Random\")\n",
    "temp = data[(data.POS == str(verbs)) & (data.Start_Last == True)]\n",
    "p2 =sns.lineplot(x=\"Noise_Percent\", y=\"Accuracy_POS\", data=temp, Label = str(f\"End: {pos_titles[str(verbs)]}\"))\n",
    "p2 = sns.lineplot(x=\"Noise_Percent\", y=\"Accuracy_Random\", data=temp, Label = \"End: Random\")\n",
    "p2.set( xlabel = \"Noise Probaiblity\", ylabel = \"Accuracy\", title = \"Accuracy of Noisy Verbs and Random Words\")"
   ]
  },
  {
   "cell_type": "code",
   "execution_count": 97,
   "metadata": {},
   "outputs": [
    {
     "data": {
      "text/plain": [
       "[Text(0, 0.5, 'Accuracy'),\n",
       " Text(0.5, 0, 'Noise Probaiblity'),\n",
       " Text(0.5, 1.0, 'Accuracy of Noisy Mid and Random Words')]"
      ]
     },
     "execution_count": 97,
     "metadata": {},
     "output_type": "execute_result"
    },
    {
     "data": {
      "image/png": "[encoded data removed]",
      "text/plain": [
       "<Figure size 432x288 with 1 Axes>"
      ]
     },
     "metadata": {
      "needs_background": "light"
     },
     "output_type": "display_data"
    }
   ],
   "source": [
    "temp = data[(data.POS == str(mid)) & (data.Start_Last == False)]\n",
    "p3 = sns.lineplot(x=\"Noise_Percent\", y=\"Accuracy_POS\", data=temp, Label = str(f\"Start: {pos_titles[str(mid)]}\"))\n",
    "p3 = sns.lineplot(x=\"Noise_Percent\", y=\"Accuracy_Random\", data=temp, Label = \"Start: Random\")\n",
    "temp = data[(data.POS == str(mid)) & (data.Start_Last == True)]\n",
    "p3 =sns.lineplot(x=\"Noise_Percent\", y=\"Accuracy_POS\", data=temp, Label = str(f\"End: {pos_titles[str(mid)]}\"))\n",
    "p3 = sns.lineplot(x=\"Noise_Percent\", y=\"Accuracy_Random\", data=temp, Label = \"End: Random\")\n",
    "p3.set( xlabel = \"Noise Probaiblity\", ylabel = \"Accuracy\", title = \"Accuracy of Noisy Mid and Random Words\")"
   ]
  },
  {
   "cell_type": "code",
   "execution_count": 98,
   "metadata": {},
   "outputs": [
    {
     "data": {
      "text/plain": [
       "[Text(0, 0.5, 'Accuracy'),\n",
       " Text(0.5, 0, 'Noise Probaiblity'),\n",
       " Text(0.5, 1.0, 'Accuracy of Noisy Nouns and Random Words')]"
      ]
     },
     "execution_count": 98,
     "metadata": {},
     "output_type": "execute_result"
    },
    {
     "data": {
      "image/png": "[encoded data removed]",
      "text/plain": [
       "<Figure size 432x288 with 1 Axes>"
      ]
     },
     "metadata": {
      "needs_background": "light"
     },
     "output_type": "display_data"
    }
   ],
   "source": [
    "temp = data[(data.POS == str(nouns)) & (data.Start_Last == False)]\n",
    "p4 = sns.lineplot(x=\"Noise_Percent\", y=\"Accuracy_POS\", data=temp, Label = str(f\"Start: {pos_titles[str(nouns)]}\"))\n",
    "p4 = sns.lineplot(x=\"Noise_Percent\", y=\"Accuracy_Random\", data=temp, Label = \"Start: Random\")\n",
    "temp = data[(data.POS == str(nouns)) & (data.Start_Last == True)]\n",
    "p4 =sns.lineplot(x=\"Noise_Percent\", y=\"Accuracy_POS\", data=temp, Label = str(f\"End: {pos_titles[str(nouns)]}\"))\n",
    "p4 = sns.lineplot(x=\"Noise_Percent\", y=\"Accuracy_Random\", data=temp, Label = \"End: Random\")\n",
    "p4.set( xlabel = \"Noise Probaiblity\", ylabel = \"Accuracy\", title = \"Accuracy of Noisy Nouns and Random Words\")"
   ]
  },
  {
   "cell_type": "code",
   "execution_count": 99,
   "metadata": {},
   "outputs": [
    {
     "data": {
      "text/plain": [
       "[Text(0, 0.5, 'Accuracy'),\n",
       " Text(0.5, 0, 'Noise Probaiblity'),\n",
       " Text(0.5, 1.0, 'Accuracy of Noisy Function and Random Words')]"
      ]
     },
     "execution_count": 99,
     "metadata": {},
     "output_type": "execute_result"
    },
    {
     "data": {
      "image/png": "[encoded data removed]",
      "text/plain": [
       "<Figure size 432x288 with 1 Axes>"
      ]
     },
     "metadata": {
      "needs_background": "light"
     },
     "output_type": "display_data"
    }
   ],
   "source": [
    "temp = data[(data.POS == str(function)) & (data.Start_Last == False)]\n",
    "p5 = sns.lineplot(x=\"Noise_Percent\", y=\"Accuracy_POS\", data=temp, Label = str(f\"Start: {pos_titles[str(function)]}\"))\n",
    "p5 = sns.lineplot(x=\"Noise_Percent\", y=\"Accuracy_Random\", data=temp, Label = \"Start: Random\")\n",
    "temp = data[(data.POS == str(function)) & (data.Start_Last == True)]\n",
    "p5 =sns.lineplot(x=\"Noise_Percent\", y=\"Accuracy_POS\", data=temp, Label = str(f\"End: {pos_titles[str(function)]}\"))\n",
    "p5 = sns.lineplot(x=\"Noise_Percent\", y=\"Accuracy_Random\", data=temp, Label = \"End: Random\")\n",
    "p5.set( xlabel = \"Noise Probaiblity\", ylabel = \"Accuracy\", title = \"Accuracy of Noisy Function and Random Words\")"
   ]
  },
  {
   "cell_type": "code",
   "execution_count": 100,
   "metadata": {},
   "outputs": [
    {
     "data": {
      "text/plain": [
       "[Text(0, 0.5, 'Accuracy'),\n",
       " Text(0.5, 0, 'Noise Probaiblity'),\n",
       " Text(0.5, 1.0, 'Accuracy of Noisy Content and Random Words')]"
      ]
     },
     "execution_count": 100,
     "metadata": {},
     "output_type": "execute_result"
    },
    {
     "data": {
      "image/png": "[encoded data removed]",
      "text/plain": [
       "<Figure size 432x288 with 1 Axes>"
      ]
     },
     "metadata": {
      "needs_background": "light"
     },
     "output_type": "display_data"
    }
   ],
   "source": [
    "temp = data[(data.POS == str(content)) & (data.Start_Last == False)]\n",
    "p5 = sns.lineplot(x=\"Noise_Percent\", y=\"Accuracy_POS\", data=temp, Label = str(f\"Start: {pos_titles[str(content)]}\"))\n",
    "p5 = sns.lineplot(x=\"Noise_Percent\", y=\"Accuracy_Random\", data=temp, Label = \"Start: Random\")\n",
    "temp = data[(data.POS == str(content)) & (data.Start_Last == True)]\n",
    "p5 =sns.lineplot(x=\"Noise_Percent\", y=\"Accuracy_POS\", data=temp, Label = str(f\"End: {pos_titles[str(content)]}\"))\n",
    "p5 = sns.lineplot(x=\"Noise_Percent\", y=\"Accuracy_Random\", data=temp, Label = \"End: Random\")\n",
    "p5.set( xlabel = \"Noise Probaiblity\", ylabel = \"Accuracy\", title = \"Accuracy of Noisy Content and Random Words\")"
   ]
  },
  {
   "cell_type": "code",
   "execution_count": null,
   "metadata": {},
   "outputs": [],
   "source": []
  },
  {
   "cell_type": "code",
   "execution_count": null,
   "metadata": {},
   "outputs": [],
   "source": []
  },
  {
   "cell_type": "code",
   "execution_count": null,
   "metadata": {},
   "outputs": [],
   "source": []
  },
  {
   "cell_type": "code",
   "execution_count": null,
   "metadata": {},
   "outputs": [],
   "source": []
  }
 ],
 "metadata": {
  "kernelspec": {
   "display_name": "Python 3",
   "language": "python",
   "name": "python3"
  },
  "language_info": {
   "codemirror_mode": {
    "name": "ipython",
    "version": 3
   },
   "file_extension": ".py",
   "mimetype": "text/x-python",
   "name": "python",
   "nbconvert_exporter": "python",
   "pygments_lexer": "ipython3",
   "version": "3.8.3"
  }
 },
 "nbformat": 4,
 "nbformat_minor": 4
}
